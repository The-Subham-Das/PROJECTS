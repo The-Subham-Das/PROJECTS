{
  "cells": [
    {
      "cell_type": "markdown",
      "metadata": {
        "id": "oqIZCulq1Jwg"
      },
      "source": [
        "Install TensorFlow and TensorFlow Model Garden"
      ]
    },
    {
      "cell_type": "code",
      "execution_count": 1,
      "metadata": {
        "id": "pu2opdPJ1N2D"
      },
      "outputs": [
        {
          "name": "stderr",
          "output_type": "stream",
          "text": [
            "2022-11-03 10:04:46.398406: I tensorflow/core/platform/cpu_feature_guard.cc:193] This TensorFlow binary is optimized with oneAPI Deep Neural Network Library (oneDNN) to use the following CPU instructions in performance-critical operations:  AVX2 AVX_VNNI FMA\n",
            "To enable them in other operations, rebuild TensorFlow with the appropriate compiler flags.\n",
            "2022-11-03 10:04:51.445129: I tensorflow/core/util/util.cc:169] oneDNN custom operations are on. You may see slightly different numerical results due to floating-point round-off errors from different computation orders. To turn them off, set the environment variable `TF_ENABLE_ONEDNN_OPTS=0`.\n",
            "2022-11-03 10:04:53.988618: E tensorflow/stream_executor/cuda/cuda_blas.cc:2981] Unable to register cuBLAS factory: Attempting to register factory for plugin cuBLAS when one has already been registered\n",
            "2022-11-03 10:05:33.676790: W tensorflow/stream_executor/platform/default/dso_loader.cc:64] Could not load dynamic library 'libnvinfer.so.7'; dlerror: libnvinfer.so.7: cannot open shared object file: No such file or directory\n",
            "2022-11-03 10:05:33.676850: W tensorflow/stream_executor/platform/default/dso_loader.cc:64] Could not load dynamic library 'libnvinfer_plugin.so.7'; dlerror: libnvinfer_plugin.so.7: cannot open shared object file: No such file or directory\n",
            "2022-11-03 10:05:33.676853: W tensorflow/compiler/tf2tensorrt/utils/py_utils.cc:38] TF-TRT Warning: Cannot dlopen some TensorRT libraries. If you would like to use Nvidia GPU with TensorRT, please make sure the missing libraries mentioned above are installed properly.\n"
          ]
        }
      ],
      "source": [
        "import tensorflow as tf\n"
      ]
    },
    {
      "cell_type": "code",
      "execution_count": 2,
      "metadata": {},
      "outputs": [
        {
          "name": "stdout",
          "output_type": "stream",
          "text": [
            "fatal: destination path 'models' already exists and is not an empty directory.\n"
          ]
        }
      ],
      "source": [
        "!git clone --depth 1 -b v2.3.0 https://github.com/tensorflow/models.git"
      ]
    },
    {
      "cell_type": "markdown",
      "metadata": {
        "id": "tXNW3rEH1lQd"
      },
      "source": [
        "1: Download and Import the Quora Insincere Questions Dataset"
      ]
    },
    {
      "cell_type": "code",
      "execution_count": 3,
      "metadata": {
        "id": "uhFnStNp1ctH"
      },
      "outputs": [
        {
          "name": "stderr",
          "output_type": "stream",
          "text": [
            "/home/hpc-lavasa/Desktop/Drive/Subham/venv-cpu/lib/python3.10/site-packages/tqdm/auto.py:22: TqdmWarning: IProgress not found. Please update jupyter and ipywidgets. See https://ipywidgets.readthedocs.io/en/stable/user_install.html\n",
            "  from .autonotebook import tqdm as notebook_tqdm\n"
          ]
        }
      ],
      "source": [
        "import random\n",
        "import numpy as np\n",
        "import pandas as pd\n",
        "from sklearn.model_selection import train_test_split\n",
        "\n",
        "import tensorflow_hub as hub\n",
        "import sys\n",
        "sys.path.append('models')\n",
        "from official.nlp.data import classifier_data_lib\n",
        "from official.nlp.bert import tokenization\n",
        "from official.nlp import optimization"
      ]
    },
    {
      "cell_type": "code",
      "execution_count": 4,
      "metadata": {
        "colab": {
          "base_uri": "https://localhost:8080/"
        },
        "id": "qSzkymCb19pT",
        "outputId": "bf45c6de-38a3-44f2-82c0-ca2bb2a2d453"
      },
      "outputs": [
        {
          "name": "stdout",
          "output_type": "stream",
          "text": [
            "TF Version:  2.10.0\n",
            "Eager mode:  True\n",
            "Hub version:  0.12.0\n",
            "[PhysicalDevice(name='/physical_device:CPU:0', device_type='CPU'), PhysicalDevice(name='/physical_device:GPU:0', device_type='GPU')]\n",
            "GPU is NOT AVAILABLE\n"
          ]
        },
        {
          "name": "stderr",
          "output_type": "stream",
          "text": [
            "2022-11-03 10:06:13.143212: I tensorflow/stream_executor/cuda/cuda_gpu_executor.cc:980] successful NUMA node read from SysFS had negative value (-1), but there must be at least one NUMA node, so returning NUMA node zero\n",
            "2022-11-03 10:06:13.249222: I tensorflow/stream_executor/cuda/cuda_gpu_executor.cc:980] successful NUMA node read from SysFS had negative value (-1), but there must be at least one NUMA node, so returning NUMA node zero\n",
            "2022-11-03 10:06:13.249374: I tensorflow/stream_executor/cuda/cuda_gpu_executor.cc:980] successful NUMA node read from SysFS had negative value (-1), but there must be at least one NUMA node, so returning NUMA node zero\n"
          ]
        }
      ],
      "source": [
        "print(\"TF Version: \", tf.__version__)\n",
        "print(\"Eager mode: \", tf.executing_eagerly())\n",
        "print(\"Hub version: \", hub.__version__)\n",
        "print(tf.config.experimental.list_physical_devices())\n",
        "print(\"GPU is\", \"available\" if tf.config.experimental.list_physical_devices(\n",
        "    \"gpu\") else \"NOT AVAILABLE\")\n"
      ]
    },
    {
      "cell_type": "code",
      "execution_count": 5,
      "metadata": {
        "colab": {
          "base_uri": "https://localhost:8080/",
          "height": 424
        },
        "id": "PpcLaZLY2EuB",
        "outputId": "a322e3fb-a588-4bbb-db7e-e567ad089015"
      },
      "outputs": [
        {
          "data": {
            "text/html": [
              "<div>\n",
              "<style scoped>\n",
              "    .dataframe tbody tr th:only-of-type {\n",
              "        vertical-align: middle;\n",
              "    }\n",
              "\n",
              "    .dataframe tbody tr th {\n",
              "        vertical-align: top;\n",
              "    }\n",
              "\n",
              "    .dataframe thead th {\n",
              "        text-align: right;\n",
              "    }\n",
              "</style>\n",
              "<table border=\"1\" class=\"dataframe\">\n",
              "  <thead>\n",
              "    <tr style=\"text-align: right;\">\n",
              "      <th></th>\n",
              "      <th>qid</th>\n",
              "      <th>question_text</th>\n",
              "      <th>target</th>\n",
              "    </tr>\n",
              "  </thead>\n",
              "  <tbody>\n",
              "    <tr>\n",
              "      <th>0</th>\n",
              "      <td>00002165364db923c7e6</td>\n",
              "      <td>How did Quebec nationalists see their province...</td>\n",
              "      <td>0</td>\n",
              "    </tr>\n",
              "    <tr>\n",
              "      <th>1</th>\n",
              "      <td>000032939017120e6e44</td>\n",
              "      <td>Do you have an adopted dog, how would you enco...</td>\n",
              "      <td>0</td>\n",
              "    </tr>\n",
              "    <tr>\n",
              "      <th>2</th>\n",
              "      <td>0000412ca6e4628ce2cf</td>\n",
              "      <td>Why does velocity affect time? Does velocity a...</td>\n",
              "      <td>0</td>\n",
              "    </tr>\n",
              "    <tr>\n",
              "      <th>3</th>\n",
              "      <td>000042bf85aa498cd78e</td>\n",
              "      <td>How did Otto von Guericke used the Magdeburg h...</td>\n",
              "      <td>0</td>\n",
              "    </tr>\n",
              "    <tr>\n",
              "      <th>4</th>\n",
              "      <td>0000455dfa3e01eae3af</td>\n",
              "      <td>Can I convert montra helicon D to a mountain b...</td>\n",
              "      <td>0</td>\n",
              "    </tr>\n",
              "    <tr>\n",
              "      <th>...</th>\n",
              "      <td>...</td>\n",
              "      <td>...</td>\n",
              "      <td>...</td>\n",
              "    </tr>\n",
              "    <tr>\n",
              "      <th>1306117</th>\n",
              "      <td>ffffcc4e2331aaf1e41e</td>\n",
              "      <td>What other technical skills do you need as a c...</td>\n",
              "      <td>0</td>\n",
              "    </tr>\n",
              "    <tr>\n",
              "      <th>1306118</th>\n",
              "      <td>ffffd431801e5a2f4861</td>\n",
              "      <td>Does MS in ECE have good job prospects in USA ...</td>\n",
              "      <td>0</td>\n",
              "    </tr>\n",
              "    <tr>\n",
              "      <th>1306119</th>\n",
              "      <td>ffffd48fb36b63db010c</td>\n",
              "      <td>Is foam insulation toxic?</td>\n",
              "      <td>0</td>\n",
              "    </tr>\n",
              "    <tr>\n",
              "      <th>1306120</th>\n",
              "      <td>ffffec519fa37cf60c78</td>\n",
              "      <td>How can one start a research project based on ...</td>\n",
              "      <td>0</td>\n",
              "    </tr>\n",
              "    <tr>\n",
              "      <th>1306121</th>\n",
              "      <td>ffffed09fedb5088744a</td>\n",
              "      <td>Who wins in a battle between a Wolverine and a...</td>\n",
              "      <td>0</td>\n",
              "    </tr>\n",
              "  </tbody>\n",
              "</table>\n",
              "<p>1306122 rows × 3 columns</p>\n",
              "</div>"
            ],
            "text/plain": [
              "                          qid  \\\n",
              "0        00002165364db923c7e6   \n",
              "1        000032939017120e6e44   \n",
              "2        0000412ca6e4628ce2cf   \n",
              "3        000042bf85aa498cd78e   \n",
              "4        0000455dfa3e01eae3af   \n",
              "...                       ...   \n",
              "1306117  ffffcc4e2331aaf1e41e   \n",
              "1306118  ffffd431801e5a2f4861   \n",
              "1306119  ffffd48fb36b63db010c   \n",
              "1306120  ffffec519fa37cf60c78   \n",
              "1306121  ffffed09fedb5088744a   \n",
              "\n",
              "                                             question_text  target  \n",
              "0        How did Quebec nationalists see their province...       0  \n",
              "1        Do you have an adopted dog, how would you enco...       0  \n",
              "2        Why does velocity affect time? Does velocity a...       0  \n",
              "3        How did Otto von Guericke used the Magdeburg h...       0  \n",
              "4        Can I convert montra helicon D to a mountain b...       0  \n",
              "...                                                    ...     ...  \n",
              "1306117  What other technical skills do you need as a c...       0  \n",
              "1306118  Does MS in ECE have good job prospects in USA ...       0  \n",
              "1306119                          Is foam insulation toxic?       0  \n",
              "1306120  How can one start a research project based on ...       0  \n",
              "1306121  Who wins in a battle between a Wolverine and a...       0  \n",
              "\n",
              "[1306122 rows x 3 columns]"
            ]
          },
          "execution_count": 5,
          "metadata": {},
          "output_type": "execute_result"
        }
      ],
      "source": [
        "df = pd.read_csv('https://archive.org/download/fine-tune-bert-tensorflow-train.csv/train.csv.zip',\n",
        "                 compression='zip', low_memory=False)\n",
        "df\n"
      ]
    },
    {
      "cell_type": "code",
      "execution_count": 6,
      "metadata": {
        "colab": {
          "base_uri": "https://localhost:8080/"
        },
        "id": "flfa9b--2Mhg",
        "outputId": "9c902f97-9eaa-4808-a9e9-c3d776c6e8c6"
      },
      "outputs": [
        {
          "data": {
            "text/plain": [
              "0    1225312\n",
              "1      80810\n",
              "Name: target, dtype: int64"
            ]
          },
          "execution_count": 6,
          "metadata": {},
          "output_type": "execute_result"
        }
      ],
      "source": [
        "df.target.value_counts()\n"
      ]
    },
    {
      "cell_type": "markdown",
      "metadata": {
        "id": "bQHHLbRc2SPU"
      },
      "source": [
        "2: Create tf.data.Datasets for Training and Evaluation"
      ]
    },
    {
      "cell_type": "code",
      "execution_count": 7,
      "metadata": {
        "colab": {
          "base_uri": "https://localhost:8080/"
        },
        "id": "6pksCCSp2RKu",
        "outputId": "584de118-e6ee-488e-bbb1-2b7dfe90591c"
      },
      "outputs": [
        {
          "name": "stdout",
          "output_type": "stream",
          "text": [
            "Train Shape\tValid Shape\tTest Shape\n"
          ]
        },
        {
          "data": {
            "text/plain": [
              "((783673, 3), (261224, 3), (261225, 3))"
            ]
          },
          "execution_count": 7,
          "metadata": {},
          "output_type": "execute_result"
        }
      ],
      "source": [
        "train, validation = train_test_split(\n",
        "    df, train_size=0.60, random_state=42, stratify=df.target.values)\n",
        "validation, test = train_test_split(\n",
        "    validation, random_state=42, test_size=0.5, stratify=validation.target.values)\n",
        "print(\"Train Shape\\tValid Shape\\tTest Shape\")\n",
        "train.shape, validation.shape, test.shape\n"
      ]
    },
    {
      "cell_type": "code",
      "execution_count": 8,
      "metadata": {
        "colab": {
          "base_uri": "https://localhost:8080/"
        },
        "id": "7HNdK-rn2WdL",
        "outputId": "a0b5bb06-26f2-42de-a9f0-b10492f4e97e"
      },
      "outputs": [
        {
          "name": "stderr",
          "output_type": "stream",
          "text": [
            "2022-11-03 10:07:12.327801: I tensorflow/core/platform/cpu_feature_guard.cc:193] This TensorFlow binary is optimized with oneAPI Deep Neural Network Library (oneDNN) to use the following CPU instructions in performance-critical operations:  AVX2 AVX_VNNI FMA\n",
            "To enable them in other operations, rebuild TensorFlow with the appropriate compiler flags.\n",
            "2022-11-03 10:07:12.335307: I tensorflow/stream_executor/cuda/cuda_gpu_executor.cc:980] successful NUMA node read from SysFS had negative value (-1), but there must be at least one NUMA node, so returning NUMA node zero\n",
            "2022-11-03 10:07:12.335447: I tensorflow/stream_executor/cuda/cuda_gpu_executor.cc:980] successful NUMA node read from SysFS had negative value (-1), but there must be at least one NUMA node, so returning NUMA node zero\n",
            "2022-11-03 10:07:12.335495: I tensorflow/stream_executor/cuda/cuda_gpu_executor.cc:980] successful NUMA node read from SysFS had negative value (-1), but there must be at least one NUMA node, so returning NUMA node zero\n",
            "2022-11-03 10:07:14.516206: I tensorflow/stream_executor/cuda/cuda_gpu_executor.cc:980] successful NUMA node read from SysFS had negative value (-1), but there must be at least one NUMA node, so returning NUMA node zero\n",
            "2022-11-03 10:07:14.522119: I tensorflow/stream_executor/cuda/cuda_gpu_executor.cc:980] successful NUMA node read from SysFS had negative value (-1), but there must be at least one NUMA node, so returning NUMA node zero\n",
            "2022-11-03 10:07:14.522208: I tensorflow/stream_executor/cuda/cuda_gpu_executor.cc:980] successful NUMA node read from SysFS had negative value (-1), but there must be at least one NUMA node, so returning NUMA node zero\n",
            "2022-11-03 10:07:14.522261: I tensorflow/core/common_runtime/gpu/gpu_device.cc:1616] Created device /job:localhost/replica:0/task:0/device:GPU:0 with 46702 MB memory:  -> device: 0, name: NVIDIA RTX A6000, pci bus id: 0000:01:00.0, compute capability: 8.6\n"
          ]
        },
        {
          "name": "stdout",
          "output_type": "stream",
          "text": [
            "                          qid  \\\n",
            "22004    0452e4e5b5c34944bc36   \n",
            "1013706  c6a65b5d62175723a176   \n",
            "659002   8114ca3a08a56ade83d9   \n",
            "1299258  fea6446c17da271b7426   \n",
            "850519   a6a69b2770aa2dcf3073   \n",
            "...                       ...   \n",
            "503308   628c8ecf3b45b64c0a65   \n",
            "1065936  d0e1a71eee5f806706f2   \n",
            "319173   3e8d066aed1996792729   \n",
            "286674   3823c5055028979fa0ab   \n",
            "131093   19a5635a21c045709a26   \n",
            "\n",
            "                                             question_text  target  \n",
            "22004    What is the most witty response to something y...       0  \n",
            "1013706  What are some products everyone really wants t...       0  \n",
            "659002   What prevents both pilots from hijacking an ai...       0  \n",
            "1299258  Does the behavior of matter change under envir...       0  \n",
            "850519   What is that white and clear vaginal discharge...       0  \n",
            "...                                                    ...     ...  \n",
            "503308   Do you feel job posted on Indian job sites lik...       0  \n",
            "1065936  What are the difference of \"believing anything...       0  \n",
            "319173              Do you think what he said is sensible?       0  \n",
            "286674        How do I switch from thermal to solar plant?       0  \n",
            "131093          What is the chemical structure of Pamelor?       0  \n",
            "\n",
            "[261225 rows x 3 columns]\n",
            "tf.Tensor(0, shape=(), dtype=int64)\n"
          ]
        }
      ],
      "source": [
        "with tf.device('/cpu:0'):\n",
        "    train_data = tf.data.Dataset.from_tensor_slices(\n",
        "        (train['question_text'].values, train['target'].values))\n",
        "    valid_data = tf.data.Dataset.from_tensor_slices(\n",
        "        (validation['question_text'].values, validation['target'].values))\n",
        "    test_data = tf.data.Dataset.from_tensor_slices(\n",
        "        (test['question_text'].values, test['target'].values))\n",
        "\n",
        "    for text, label in train_data.take(1):\n",
        "        print(test)\n",
        "        print(label)\n"
      ]
    },
    {
      "cell_type": "markdown",
      "metadata": {
        "id": "oeK8JoCT2cqz"
      },
      "source": [
        "3: Download a Pre-trained BERT Model from TensorFlow Hub"
      ]
    },
    {
      "cell_type": "code",
      "execution_count": 9,
      "metadata": {
        "id": "6u6HRoCU2ZPW"
      },
      "outputs": [
        {
          "name": "stdout",
          "output_type": "stream",
          "text": [
            "WARNING:tensorflow:Please fix your imports. Module tensorflow.python.training.tracking.data_structures has been moved to tensorflow.python.trackable.data_structures. The old module will be deleted in version 2.11.\n"
          ]
        }
      ],
      "source": [
        "\"\"\"\n",
        "Each line of the dataset is composed of the review text and its label\n",
        "- Data preprocessing consists of transforming text to BERT input features:\n",
        "input_word_ids, input_mask, segment_ids\n",
        "- In the process, tokenizing the text is done with the provided BERT model tokenizer\n",
        "\"\"\"\n",
        "labels_list = [0, 1]\n",
        "max_seq_len = 150\n",
        "batch = 64\n",
        "\n",
        "#: https://tfhub.dev/tensorflow/bert_en_uncased_L-12_H-768_A-12/2\n",
        "bert_layer = hub.KerasLayer(\n",
        "    'https://tfhub.dev/tensorflow/bert_en_uncased_L-12_H-768_A-12/2', trainable=False)\n",
        "vocab = bert_layer.resolved_object.vocab_file.asset_path.numpy()\n",
        "do_lower_case = bert_layer.resolved_object.do_lower_case.numpy()\n",
        "tokenizer = tokenization.FullTokenizer(vocab, do_lower_case)\n"
      ]
    },
    {
      "cell_type": "code",
      "execution_count": 10,
      "metadata": {
        "colab": {
          "base_uri": "https://localhost:8080/"
        },
        "id": "AgEVuVBI2hWe",
        "outputId": "606c97bc-8297-41e3-8211-8c5418d5dc07"
      },
      "outputs": [
        {
          "data": {
            "text/plain": [
              "['hi', '##,', 'how', '##,', 'are', 'you']"
            ]
          },
          "execution_count": 10,
          "metadata": {},
          "output_type": "execute_result"
        }
      ],
      "source": [
        "tokenizer.wordpiece_tokenizer.tokenize(\"hi, how, are you\")\n"
      ]
    },
    {
      "cell_type": "code",
      "execution_count": 11,
      "metadata": {
        "colab": {
          "base_uri": "https://localhost:8080/"
        },
        "id": "shFfbHWo2qsR",
        "outputId": "0e96debc-327e-45ff-a253-8c8723300742"
      },
      "outputs": [
        {
          "data": {
            "text/plain": [
              "['hi', '##,', '[UNK]', 'are', 'you']"
            ]
          },
          "execution_count": 11,
          "metadata": {},
          "output_type": "execute_result"
        }
      ],
      "source": [
        "tokenizer.wordpiece_tokenizer.tokenize(\"hi, How, are you\")\n"
      ]
    },
    {
      "cell_type": "code",
      "execution_count": 12,
      "metadata": {
        "colab": {
          "base_uri": "https://localhost:8080/"
        },
        "id": "tM22UFZp2s2s",
        "outputId": "7ee1a8f5-5d1d-48ba-af14-65824dbb8bc8"
      },
      "outputs": [
        {
          "data": {
            "text/plain": [
              "[7632, 29623, 2129, 29623, 2024, 2017]"
            ]
          },
          "execution_count": 12,
          "metadata": {},
          "output_type": "execute_result"
        }
      ],
      "source": [
        "tokenizer.convert_tokens_to_ids(\n",
        "    tokenizer.wordpiece_tokenizer.tokenize(\"hi, how, are you\"))\n"
      ]
    },
    {
      "cell_type": "markdown",
      "metadata": {
        "id": "HfvAkHF320Db"
      },
      "source": [
        "4: Tokenize and Preprocess Text for BERT"
      ]
    },
    {
      "cell_type": "code",
      "execution_count": 13,
      "metadata": {
        "id": "s89QKyXa2wYB"
      },
      "outputs": [],
      "source": [
        "# This provides a function to convert row to input features and label\n",
        "\n",
        "def to_feature(text, label, label_list=labels_list, max_seq_length=max_seq_len, tokenizer=tokenizer):\n",
        "\n",
        "    example = classifier_data_lib.InputExample(guid=None,\n",
        "                                               text_a=text.numpy(),\n",
        "                                               text_b=None,\n",
        "                                               label=label.numpy()\n",
        "                                               )\n",
        "    feature = classifier_data_lib.convert_single_example(\n",
        "        0, example, label_list, max_seq_length, tokenizer)\n",
        "\n",
        "    return (feature.input_ids, feature.input_mask, feature.segment_ids, feature.label_id)\n"
      ]
    },
    {
      "cell_type": "markdown",
      "metadata": {
        "id": "KU2tOmuJ28-z"
      },
      "source": [
        "5: Wrap a Python Function into a TensorFlow op for Eager Execution"
      ]
    },
    {
      "cell_type": "code",
      "execution_count": 14,
      "metadata": {
        "id": "VEtHQW0K25yl"
      },
      "outputs": [],
      "source": [
        "def to_feature_map(text, label):\n",
        "    input_ids, input_mask, segment_ids, label_id = tf.py_function(to_feature, inp=[text, label],\n",
        "                                                                  Tout=[\n",
        "                                                                      tf.int32, tf.int32, tf.int32, tf.int32]\n",
        "                                                                  )\n",
        "    input_ids.set_shape([max_seq_len])\n",
        "    input_mask.set_shape([max_seq_len])\n",
        "    segment_ids.set_shape([max_seq_len])\n",
        "    label_id.set_shape([])\n",
        "\n",
        "    x = {\n",
        "        'input_word_ids': input_ids,\n",
        "        'input_mask': input_mask,\n",
        "        'input_type_ids': segment_ids\n",
        "    }\n",
        "    return (x, label_id)\n"
      ]
    },
    {
      "cell_type": "markdown",
      "metadata": {
        "id": "q-PKeSux3Cgf"
      },
      "source": [
        "6: Create a TensorFlow Input Pipeline with tf.data"
      ]
    },
    {
      "cell_type": "code",
      "execution_count": 15,
      "metadata": {
        "id": "TJZb8onm2_yk"
      },
      "outputs": [],
      "source": [
        "with tf.device('/cpu:0'):\n",
        "    # train\n",
        "    train_data = (train_data.map(to_feature_map,\n",
        "                                 num_parallel_calls=tf.data.experimental.AUTOTUNE\n",
        "                                 )\n",
        "                  .shuffle(1000)\n",
        "                  .batch(batch, drop_remainder=True)\n",
        "                  .prefetch(tf.data.experimental.AUTOTUNE)\n",
        "                  )\n",
        "\n",
        "    # valid\n",
        "    valid_data = (valid_data.map(to_feature_map,\n",
        "                                 num_parallel_calls=tf.data.experimental.AUTOTUNE\n",
        "                                 )\n",
        "                  .batch(batch, drop_remainder=True)\n",
        "                  .prefetch(tf.data.experimental.AUTOTUNE)\n",
        "                  )\n",
        "\n",
        "    # test\n",
        "    test_data = (test_data.map(to_feature_map,\n",
        "                               num_parallel_calls=tf.data.experimental.AUTOTUNE\n",
        "                               )\n",
        "                 .batch(batch, drop_remainder=True)\n",
        "                 .prefetch(tf.data.experimental.AUTOTUNE)\n",
        "                 )\n"
      ]
    },
    {
      "cell_type": "code",
      "execution_count": 16,
      "metadata": {
        "colab": {
          "base_uri": "https://localhost:8080/"
        },
        "id": "k8dSwb3J3GPT",
        "outputId": "5f56ec5d-c9a4-4a70-dba2-40920aaab07b"
      },
      "outputs": [
        {
          "data": {
            "text/plain": [
              "({'input_word_ids': TensorSpec(shape=(64, 150), dtype=tf.int32, name=None),\n",
              "  'input_mask': TensorSpec(shape=(64, 150), dtype=tf.int32, name=None),\n",
              "  'input_type_ids': TensorSpec(shape=(64, 150), dtype=tf.int32, name=None)},\n",
              " TensorSpec(shape=(64,), dtype=tf.int32, name=None))"
            ]
          },
          "execution_count": 16,
          "metadata": {},
          "output_type": "execute_result"
        }
      ],
      "source": [
        "# train data spec\n",
        "train_data.element_spec\n"
      ]
    },
    {
      "cell_type": "code",
      "execution_count": 17,
      "metadata": {
        "colab": {
          "base_uri": "https://localhost:8080/"
        },
        "id": "Al0qb7KL3I44",
        "outputId": "5f59449f-60a9-428b-83d2-610a9eefbd46"
      },
      "outputs": [
        {
          "data": {
            "text/plain": [
              "({'input_word_ids': TensorSpec(shape=(64, 150), dtype=tf.int32, name=None),\n",
              "  'input_mask': TensorSpec(shape=(64, 150), dtype=tf.int32, name=None),\n",
              "  'input_type_ids': TensorSpec(shape=(64, 150), dtype=tf.int32, name=None)},\n",
              " TensorSpec(shape=(64,), dtype=tf.int32, name=None))"
            ]
          },
          "execution_count": 17,
          "metadata": {},
          "output_type": "execute_result"
        }
      ],
      "source": [
        "# valid data spec\n",
        "valid_data.element_spec\n"
      ]
    },
    {
      "cell_type": "markdown",
      "metadata": {
        "id": "JQWqsF2e3NQn"
      },
      "source": [
        "7: Add a Classification Head to the BERT Layer"
      ]
    },
    {
      "cell_type": "code",
      "execution_count": 18,
      "metadata": {
        "id": "ssequOc83K36"
      },
      "outputs": [],
      "source": [
        "# Building the model\n",
        "def create_model():\n",
        "    input_word_ids = tf.keras.layers.Input(shape=(max_seq_len,), dtype=tf.int32,\n",
        "                                           name=\"input_word_ids\")\n",
        "    input_mask = tf.keras.layers.Input(shape=(max_seq_len,), dtype=tf.int32,\n",
        "                                       name=\"input_mask\")\n",
        "    segment_ids = tf.keras.layers.Input(shape=(max_seq_len,), dtype=tf.int32,\n",
        "                                        name=\"segment_ids\")\n",
        "    pooled_output, sequence_output = bert_layer(\n",
        "        [input_word_ids, input_mask, segment_ids])\n",
        "\n",
        "    drop = tf.keras.layers.Dropout(0.3)(pooled_output)\n",
        "    dense_1 = tf.keras.layers.Dense(512, activation='relu')(drop)\n",
        "    dense_2 = tf.keras.layers.Dense(1024, activation='relu')(dense_1)\n",
        "    dense_3 = tf.keras.layers.Dense(1024, activation='relu')(dense_2)\n",
        "    drop = tf.keras.layers.Dropout(0.4)(dense_3)\n",
        "\n",
        "    output = tf.keras.layers.Dense(\n",
        "        1, activation='sigmoid', name='output')(drop)\n",
        "\n",
        "    model = tf.keras.Model(\n",
        "        {\n",
        "            'input_word_ids': input_word_ids,\n",
        "            'input_mask': input_mask,\n",
        "            'input_type_ids': segment_ids\n",
        "        },\n",
        "        output\n",
        "    )\n",
        "    return model\n"
      ]
    },
    {
      "cell_type": "markdown",
      "metadata": {
        "id": "k3lF3E5B3Sl9"
      },
      "source": [
        "8: Fine-Tune BERT for Text Classification"
      ]
    },
    {
      "cell_type": "code",
      "execution_count": 19,
      "metadata": {
        "colab": {
          "base_uri": "https://localhost:8080/"
        },
        "id": "Basxq_CA3QHr",
        "outputId": "5c4ae36d-a3b7-45d1-db21-c0a7487bd04d"
      },
      "outputs": [
        {
          "name": "stdout",
          "output_type": "stream",
          "text": [
            "Model: \"model\"\n",
            "__________________________________________________________________________________________________\n",
            " Layer (type)                   Output Shape         Param #     Connected to                     \n",
            "==================================================================================================\n",
            " input_word_ids (InputLayer)    [(None, 150)]        0           []                               \n",
            "                                                                                                  \n",
            " input_mask (InputLayer)        [(None, 150)]        0           []                               \n",
            "                                                                                                  \n",
            " segment_ids (InputLayer)       [(None, 150)]        0           []                               \n",
            "                                                                                                  \n",
            " keras_layer (KerasLayer)       [(None, 768),        109482241   ['input_word_ids[0][0]',         \n",
            "                                 (None, 150, 768)]                'input_mask[0][0]',             \n",
            "                                                                  'segment_ids[0][0]']            \n",
            "                                                                                                  \n",
            " dropout (Dropout)              (None, 768)          0           ['keras_layer[0][0]']            \n",
            "                                                                                                  \n",
            " dense (Dense)                  (None, 512)          393728      ['dropout[0][0]']                \n",
            "                                                                                                  \n",
            " dense_1 (Dense)                (None, 1024)         525312      ['dense[0][0]']                  \n",
            "                                                                                                  \n",
            " dense_2 (Dense)                (None, 1024)         1049600     ['dense_1[0][0]']                \n",
            "                                                                                                  \n",
            " dropout_1 (Dropout)            (None, 1024)         0           ['dense_2[0][0]']                \n",
            "                                                                                                  \n",
            " output (Dense)                 (None, 1)            1025        ['dropout_1[0][0]']              \n",
            "                                                                                                  \n",
            "==================================================================================================\n",
            "Total params: 111,451,906\n",
            "Trainable params: 1,969,665\n",
            "Non-trainable params: 109,482,241\n",
            "__________________________________________________________________________________________________\n"
          ]
        }
      ],
      "source": [
        "model = create_model()\n",
        "model.compile(\n",
        "    optimizer=tf.keras.optimizers.Adam(learning_rate=2e-4),\n",
        "    loss=tf.keras.losses.BinaryCrossentropy(),\n",
        "    metrics=['binary_accuracy']\n",
        ")\n",
        "model.summary()\n"
      ]
    },
    {
      "cell_type": "code",
      "execution_count": 20,
      "metadata": {
        "colab": {
          "base_uri": "https://localhost:8080/",
          "height": 724
        },
        "id": "L2MGJgHi3U7G",
        "outputId": "3ed34330-3e2b-4695-f602-c8b9ae34214c"
      },
      "outputs": [
        {
          "name": "stdout",
          "output_type": "stream",
          "text": [
            "You must install pydot (`pip install pydot`) and install graphviz (see instructions at https://graphviz.gitlab.io/download/) for plot_model to work.\n"
          ]
        }
      ],
      "source": [
        "tf.keras.utils.plot_model(model, show_shapes=True, dpi=80)\n"
      ]
    },
    {
      "cell_type": "code",
      "execution_count": 21,
      "metadata": {
        "colab": {
          "base_uri": "https://localhost:8080/"
        },
        "id": "glEKW5pq3Zmo",
        "outputId": "eb4e3951-5582-48b9-c2d9-c90c53fbf7ac"
      },
      "outputs": [
        {
          "name": "stdout",
          "output_type": "stream",
          "text": [
            "Epoch 1/5\n"
          ]
        },
        {
          "name": "stderr",
          "output_type": "stream",
          "text": [
            "2022-11-03 10:08:49.029726: I tensorflow/stream_executor/cuda/cuda_blas.cc:1614] TensorFloat-32 will be used for the matrix multiplication. This will only be logged once.\n"
          ]
        },
        {
          "name": "stdout",
          "output_type": "stream",
          "text": [
            "12244/12244 [==============================] - 2084s 170ms/step - loss: 0.1761 - binary_accuracy: 0.9397 - val_loss: 0.1506 - val_binary_accuracy: 0.9440\n",
            "Epoch 2/5\n",
            "12244/12244 [==============================] - 2082s 170ms/step - loss: 0.1678 - binary_accuracy: 0.9404 - val_loss: 0.1502 - val_binary_accuracy: 0.9428\n",
            "Epoch 3/5\n",
            "12244/12244 [==============================] - 2079s 170ms/step - loss: 0.1655 - binary_accuracy: 0.9409 - val_loss: 0.1471 - val_binary_accuracy: 0.9421\n",
            "Epoch 4/5\n",
            "12244/12244 [==============================] - 2080s 170ms/step - loss: 0.1637 - binary_accuracy: 0.9412 - val_loss: 0.1467 - val_binary_accuracy: 0.9435\n",
            "Epoch 5/5\n",
            "12244/12244 [==============================] - 2082s 170ms/step - loss: 0.1630 - binary_accuracy: 0.9413 - val_loss: 0.1459 - val_binary_accuracy: 0.9443\n"
          ]
        }
      ],
      "source": [
        "# Train model\n",
        "h = model.fit(train_data, validation_data=valid_data,\n",
        "              epochs=5\n",
        "              )\n"
      ]
    },
    {
      "cell_type": "markdown",
      "metadata": {
        "id": "u_RXTu9J37CI"
      },
      "source": [
        "9: Evaluate the BERT Text Classification Model"
      ]
    },
    {
      "cell_type": "code",
      "execution_count": 22,
      "metadata": {
        "id": "iDRu1t2_3g0y"
      },
      "outputs": [],
      "source": [
        "import matplotlib.pyplot as plt\n",
        "\n",
        "\n",
        "def plot_graphs(history, metric):\n",
        "    plt.plot(history.history[metric])\n",
        "    plt.plot(history.history['val_'+metric], '')\n",
        "    plt.xlabel(\"Epochs\")\n",
        "    plt.ylabel(metric)\n",
        "    plt.legend([metric, 'val_'+metric])\n",
        "    plt.show()\n"
      ]
    },
    {
      "cell_type": "code",
      "execution_count": 23,
      "metadata": {
        "colab": {
          "base_uri": "https://localhost:8080/",
          "height": 397
        },
        "id": "pyOXGoRX4Afc",
        "outputId": "d377c3c1-8097-4a8a-83d8-64b6025e5378"
      },
      "outputs": [
        {
          "data": {
            "image/png": "[encoded data removed]",
            "text/plain": [
              "<Figure size 640x480 with 1 Axes>"
            ]
          },
          "metadata": {},
          "output_type": "display_data"
        }
      ],
      "source": [
        "plot_graphs(h, 'loss')\n"
      ]
    },
    {
      "cell_type": "code",
      "execution_count": 24,
      "metadata": {
        "colab": {
          "base_uri": "https://localhost:8080/",
          "height": 397
        },
        "id": "3pN3eXmR4CXU",
        "outputId": "9807c4c9-9e4e-45dc-d95c-459e2bc69d30"
      },
      "outputs": [
        {
          "data": {
            "image/png": "[encoded data removed]",
            "text/plain": [
              "<Figure size 640x480 with 1 Axes>"
            ]
          },
          "metadata": {},
          "output_type": "display_data"
        }
      ],
      "source": [
        "\n",
        "plot_graphs(h, 'binary_accuracy')\n"
      ]
    },
    {
      "cell_type": "code",
      "execution_count": 25,
      "metadata": {
        "colab": {
          "base_uri": "https://localhost:8080/"
        },
        "id": "XHB4OQDi4D5c",
        "outputId": "0cfa2ecd-87ea-4a06-8982-7b2f5c73cf80"
      },
      "outputs": [
        {
          "name": "stdout",
          "output_type": "stream",
          "text": [
            "4081/4081 [==============================] - 520s 127ms/step - loss: 0.1459 - binary_accuracy: 0.9447\n"
          ]
        },
        {
          "data": {
            "text/plain": [
              "[0.14588764309883118, 0.9447247982025146]"
            ]
          },
          "execution_count": 25,
          "metadata": {},
          "output_type": "execute_result"
        }
      ],
      "source": [
        "model.evaluate(test_data)\n"
      ]
    },
    {
      "cell_type": "code",
      "execution_count": 26,
      "metadata": {
        "colab": {
          "base_uri": "https://localhost:8080/",
          "height": 235
        },
        "id": "8km3W3qT4F5A",
        "outputId": "c50fced9-c3e7-423c-ca9d-14bac69d4a78"
      },
      "outputs": [
        {
          "name": "stdout",
          "output_type": "stream",
          "text": [
            "1/1 [==============================] - 0s 295ms/step\n"
          ]
        },
        {
          "data": {
            "text/plain": [
              "['Sincere']"
            ]
          },
          "execution_count": 26,
          "metadata": {},
          "output_type": "execute_result"
        }
      ],
      "source": [
        "sample_example = ['may i have your number??']\n",
        "ques = tf.data.Dataset.from_tensor_slices(\n",
        "    (sample_example, [0]*len(sample_example)))\n",
        "ques = (ques.map(to_feature_map)).batch(1)\n",
        "pred = model.predict(ques)[0][0]\n",
        "t = 0.5\n",
        "['Insincere' if pred >= t else 'Sincere']\n"
      ]
    },
    {
      "cell_type": "code",
      "execution_count": null,
      "metadata": {
        "id": "bpq4_dMDlcIK"
      },
      "outputs": [],
      "source": []
    },
    {
      "cell_type": "code",
      "execution_count": 27,
      "metadata": {},
      "outputs": [
        {
          "name": "stdout",
          "output_type": "stream",
          "text": [
            "Num GPUs Available:  1\n"
          ]
        }
      ],
      "source": [
        "import tensorflow as tf\n",
        "print(\"Num GPUs Available: \", len(tf.config.list_physical_devices('GPU')))\n"
      ]
    }
  ],
  "metadata": {
    "accelerator": "GPU",
    "colab": {
      "collapsed_sections": [],
      "provenance": []
    },
    "gpuClass": "standard",
    "kernelspec": {
      "display_name": "Python 3.10.6 ('venv-cpu': venv)",
      "language": "python",
      "name": "python3"
    },
    "language_info": {
      "codemirror_mode": {
        "name": "ipython",
        "version": 3
      },
      "file_extension": ".py",
      "mimetype": "text/x-python",
      "name": "python",
      "nbconvert_exporter": "python",
      "pygments_lexer": "ipython3",
      "version": "3.10.6"
    },
    "vscode": {
      "interpreter": {
        "hash": "c8eabfb29a27fe72101f320503e3c174b163003154a9d191f59300cbe294898f"
      }
    }
  },
  "nbformat": 4,
  "nbformat_minor": 0
}
